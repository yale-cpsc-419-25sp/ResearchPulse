{
 "cells": [
  {
   "cell_type": "code",
   "execution_count": 34,
   "id": "ed6e11a2",
   "metadata": {},
   "outputs": [],
   "source": [
    "from FlagEmbedding import FlagModel\n",
    "sentences_1 = [\"样例数据-1\", \"样例数据-2\"]\n",
    "sentences_2 = [\"样例数据-3\", \"样例数据-4\"]\n",
    "model = FlagModel('BAAI/bge-large-zh-v1.5', \n",
    "                  query_instruction_for_retrieval=\"Generate a representation for this sentence for retrieving related articles:\",\n",
    "                  use_fp16=True) # Setting use_fp16 to True speeds up computation with a slight performance degradation"
   ]
  },
  {
   "cell_type": "code",
   "execution_count": 35,
   "id": "0fa16dd1",
   "metadata": {},
   "outputs": [
    {
     "name": "stderr",
     "output_type": "stream",
     "text": [
      "You're using a BertTokenizerFast tokenizer. Please note that with a fast tokenizer, using the `__call__` method is faster than using a method to encode the text followed by a call to the `pad` method to get a padded encoding.\n"
     ]
    }
   ],
   "source": [
    "embeddings_1 = model.encode(sentences_1)\n",
    "embeddings_2 = model.encode(sentences_2)"
   ]
  },
  {
   "cell_type": "code",
   "execution_count": 36,
   "id": "8a092b1b",
   "metadata": {},
   "outputs": [],
   "source": [
    "followed_papers = ['Novel biomarkers in breast cancer progression',\n",
    "'Applications of Microfluidics and Organ-on-a-Chip in Cancer Research',\n",
    "'Applications of single-cell sequencing in cancer research: progress and perspectives',\n",
    "'Artificial intelligence in cancer research, diagnosis and therapy',\n",
    "'Artificial Intelligence in Cancer Research: Trends, Challenges and Future Directions',\n",
    "'Artificial intelligence in histopathology: enhancing cancer research and clinical oncology',\n",
    "]\n",
    "\n",
    "other_papers = [\n",
    "    'Artificial Intelligence in Cancer Research and Precision Medicine.',\n",
    "    'Establishing guidelines to harmonize tumor mutational burden (TMB): in silico assessment of variation in TMB quantification across diagnostic platforms: phase I of the Friends of Cancer Research TMB Harmonization Project',\n",
    "'Global cancer statistics 2018: GLOBOCAN estimates of incidence and mortality worldwide for 36 cancers in 185 countries',\n",
    "'Global Cancer Statistics 2020: GLOBOCAN Estimates of Incidence and Mortality Worldwide for 36 Cancers in 185 Countries',\n",
    "'Global cancer statistics 2022: GLOBOCAN estimates of incidence and mortality worldwide for 36 cancers in 185 countries',\n",
    "'Journal of Cancer Research and Clinical Oncology',\n",
    "'Metabolomics in cancer research and emerging applications in clinical oncology',\n",
    "'Organoids in cancer research',\n",
    "'Big data in basic and translational cancer research',\n",
    "'Priorities for cancer research in low- and middle-income countries: a global perspective',\n",
    "'Recent Advances in Thyroid Cancer Research',\n",
    "'RNA sequencing: new technologies and applications in cancer research',\n",
    "'Scaffold-based 3D cell culture models in cancer research',\n",
    "'Spatial omics: Navigating to the golden era of cancer research',\n",
    "'Statistical methods in cancer research. Volume II--The design and analysis of cohort studies.',\n",
    "'UK Biobank: a globally important resource for cancer research']\n"
   ]
  },
  {
   "cell_type": "code",
   "execution_count": 37,
   "id": "3a91d360",
   "metadata": {},
   "outputs": [],
   "source": [
    "embeddings_1 = model.encode(followed_papers)\n",
    "embeddings_2 = model.encode(other_papers)"
   ]
  },
  {
   "cell_type": "code",
   "execution_count": 52,
   "id": "63f3e3f3",
   "metadata": {},
   "outputs": [
    {
     "name": "stdout",
     "output_type": "stream",
     "text": [
      "(6, 16)\n"
     ]
    }
   ],
   "source": [
    "similarity = embeddings_1 @ embeddings_2.T\n",
    "print(similarity.shape)"
   ]
  },
  {
   "cell_type": "code",
   "execution_count": null,
   "id": "1e7e80dc",
   "metadata": {},
   "outputs": [],
   "source": [
    "import numpy as np"
   ]
  },
  {
   "cell_type": "code",
   "execution_count": 49,
   "id": "f853458d",
   "metadata": {},
   "outputs": [],
   "source": [
    "sim_arr = np.array(similarity)\n",
    "papers_sorted = sorted(list(zip(np.sum(sim_arr, axis = 0).tolist(), other_papers)),reverse=True)\n",
    "papers = [p[1] for p in papers_sorted]"
   ]
  },
  {
   "cell_type": "code",
   "execution_count": 50,
   "id": "5d730957",
   "metadata": {},
   "outputs": [
    {
     "name": "stdout",
     "output_type": "stream",
     "text": [
      "[(4.28125, 'Artificial Intelligence in Cancer Research and Precision Medicine.'), (3.96875, 'Journal of Cancer Research and Clinical Oncology'), (3.962890625, 'Metabolomics in cancer research and emerging applications in clinical oncology'), (3.94921875, 'RNA sequencing: new technologies and applications in cancer research'), (3.939453125, 'Scaffold-based 3D cell culture models in cancer research'), (3.8984375, 'Statistical methods in cancer research. Volume II--The design and analysis of cohort studies.'), (3.78515625, 'Big data in basic and translational cancer research'), (3.744140625, 'Spatial omics: Navigating to the golden era of cancer research'), (3.728515625, 'Priorities for cancer research in low- and middle-income countries: a global perspective'), (3.654296875, 'Organoids in cancer research'), (3.578125, 'Recent Advances in Thyroid Cancer Research'), (3.396484375, 'UK Biobank: a globally important resource for cancer research'), (3.35546875, 'Establishing guidelines to harmonize tumor mutational burden (TMB): in silico assessment of variation in TMB quantification across diagnostic platforms: phase I of the Friends of Cancer Research TMB Harmonization Project'), (3.275390625, 'Global cancer statistics 2018: GLOBOCAN estimates of incidence and mortality worldwide for 36 cancers in 185 countries'), (3.2734375, 'Global cancer statistics 2022: GLOBOCAN estimates of incidence and mortality worldwide for 36 cancers in 185 countries'), (3.244140625, 'Global Cancer Statistics 2020: GLOBOCAN Estimates of Incidence and Mortality Worldwide for 36 Cancers in 185 Countries')]\n"
     ]
    }
   ],
   "source": [
    "print(papers_sorted)"
   ]
  },
  {
   "cell_type": "code",
   "execution_count": 51,
   "id": "bee44023",
   "metadata": {},
   "outputs": [
    {
     "name": "stdout",
     "output_type": "stream",
     "text": [
      "['Artificial Intelligence in Cancer Research and Precision Medicine.', 'Journal of Cancer Research and Clinical Oncology', 'Metabolomics in cancer research and emerging applications in clinical oncology', 'RNA sequencing: new technologies and applications in cancer research', 'Scaffold-based 3D cell culture models in cancer research', 'Statistical methods in cancer research. Volume II--The design and analysis of cohort studies.', 'Big data in basic and translational cancer research', 'Spatial omics: Navigating to the golden era of cancer research', 'Priorities for cancer research in low- and middle-income countries: a global perspective', 'Organoids in cancer research', 'Recent Advances in Thyroid Cancer Research', 'UK Biobank: a globally important resource for cancer research', 'Establishing guidelines to harmonize tumor mutational burden (TMB): in silico assessment of variation in TMB quantification across diagnostic platforms: phase I of the Friends of Cancer Research TMB Harmonization Project', 'Global cancer statistics 2018: GLOBOCAN estimates of incidence and mortality worldwide for 36 cancers in 185 countries', 'Global cancer statistics 2022: GLOBOCAN estimates of incidence and mortality worldwide for 36 cancers in 185 countries', 'Global Cancer Statistics 2020: GLOBOCAN Estimates of Incidence and Mortality Worldwide for 36 Cancers in 185 Countries']\n"
     ]
    }
   ],
   "source": [
    "print(papers)"
   ]
  },
  {
   "cell_type": "markdown",
   "id": "3cd24602",
   "metadata": {},
   "source": [
    "## Code to implement algorithm into the website -- will add soon \n",
    "\n",
    "import numpy as np\n",
    "from FlagEmbedding import FlagModel\n",
    "model = FlagModel('BAAI/bge-large-zh-v1.5', \n",
    "                  query_instruction_for_retrieval=\"Generate a representation for this sentence for retrieving related articles:\",\n",
    "                  use_fp16=True) # Setting use_fp16 to True speeds up computation with a slight performance degradation\n",
    "\n",
    "def get_recent_papers(session, person_id, limit=100):\n",
    "    papers = (\n",
    "        session.query(Papers)\n",
    "        .order_by(Papers.publication_date.desc())\n",
    "        .limit(limit)\n",
    "        .all()\n",
    "    )\n",
    "\n",
    "    paper_ids = [p.paper_id for p in papers]\n",
    "    paper_titles = [p.title for p in papers]\n",
    "    \n",
    "    starred_titles = list(\n",
    "        r[0] for r in session.query(StarredPapers.paper_id)\n",
    "        .filter(StarredPapers.person_id == person_id)\n",
    "        .filter(StarredPapers.paper_id.in_(paper_ids))\n",
    "        .all()\n",
    "    )\n",
    "\n",
    "    print(paper_titles)\n",
    "    print(starred_titles)\n",
    "\n",
    "    embeddings_1 = model.encode(starred_titles)\n",
    "    embeddings_2 = model.encode(paper_titles)\n",
    "\n",
    "    similarity = embeddings_1 @ embeddings_2.T\n",
    "    print(similarity.shape)\n",
    "\n",
    "    sim_arr = np.array(similarity)\n",
    "    papers_sorted = sorted(list(zip(np.sum(sim_arr, axis = 0).tolist(), papers)),reverse=True, key= lambda x: x[0])\n",
    "    papers = [p[1] for p in papers_sorted]\n"
   ]
  },
  {
   "cell_type": "markdown",
   "id": "e987a58e",
   "metadata": {},
   "source": []
  }
 ],
 "metadata": {
  "kernelspec": {
   "display_name": "venv",
   "language": "python",
   "name": "python3"
  },
  "language_info": {
   "codemirror_mode": {
    "name": "ipython",
    "version": 3
   },
   "file_extension": ".py",
   "mimetype": "text/x-python",
   "name": "python",
   "nbconvert_exporter": "python",
   "pygments_lexer": "ipython3",
   "version": "3.11.6"
  }
 },
 "nbformat": 4,
 "nbformat_minor": 5
}
